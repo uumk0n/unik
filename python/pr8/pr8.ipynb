{
 "cells": [
  {
   "attachments": {},
   "cell_type": "markdown",
   "metadata": {},
   "source": [
    "Часть первая"
   ]
  },
  {
   "cell_type": "code",
   "execution_count": 1,
   "metadata": {},
   "outputs": [],
   "source": [
    "import numpy as np\n",
    "from sklearn.linear_model import LinearRegression\n",
    "from sklearn.metrics import mean_squared_error\n",
    "import random\n",
    "from sklearn.datasets import load_diabetes"
   ]
  },
  {
   "cell_type": "code",
   "execution_count": 2,
   "metadata": {},
   "outputs": [],
   "source": [
    "# Генерирование случайных размеров ног и роста\n",
    "data = []\n",
    "for i in range(15):\n",
    "    base = random.gauss(100, 5)\n",
    "    leg = base / 3.8 + random.gauss(0, 1)\n",
    "    height = base * 1.7 + random.gauss(0, 2)\n",
    "    data.append([leg, height])\n",
    "\n",
    "data = np.array(data)"
   ]
  },
  {
   "cell_type": "code",
   "execution_count": 3,
   "metadata": {},
   "outputs": [],
   "source": [
    "def proceed(x,k,c):\n",
    "    return x * k+ c\n",
    "\n",
    "\n",
    "def perceptron(input_data, rate, num_step, mod:bool=False):\n",
    "    targets = data[:,1]\n",
    "    k = random.uniform(-5, 5)\n",
    "    c = random.uniform(-5, 5)\n",
    "    error_history=[]\n",
    "    for i in range(num_step):\n",
    "        x = random.choice(input_data)\n",
    "        true_result = targets[np.where((input_data == x).all(axis=1))[0][0]]\n",
    "        out = proceed(x,k,c)\n",
    "        delta = true_result - out\n",
    "        k += delta * rate * x[0]\n",
    "        c += delta * rate * x[1]\n",
    "        if i % 100 == 0:\n",
    "            error = np.mean((targets - proceed(input_data[:,0],k[0],c[0])) ** 2)\n",
    "            error_history.append(error)\n",
    "            if mod:\n",
    "                rate*=0.99\n",
    "   \n",
    "    return k, c, error_history"
   ]
  },
  {
   "cell_type": "code",
   "execution_count": 4,
   "metadata": {},
   "outputs": [
    {
     "name": "stderr",
     "output_type": "stream",
     "text": [
      "C:\\Users\\uumk0\\AppData\\Local\\Temp\\ipykernel_9948\\265977706.py:2: RuntimeWarning: overflow encountered in multiply\n",
      "  return x * k+ c\n",
      "C:\\Users\\uumk0\\AppData\\Local\\Temp\\ipykernel_9948\\265977706.py:15: RuntimeWarning: invalid value encountered in add\n",
      "  k += delta * rate * x[0]\n",
      "C:\\Users\\uumk0\\AppData\\Local\\Temp\\ipykernel_9948\\265977706.py:16: RuntimeWarning: invalid value encountered in add\n",
      "  c += delta * rate * x[1]\n"
     ]
    }
   ],
   "source": [
    "# Разделите входные характеристики (размер ноги) и целевую переменную (рост)\n",
    "X = data[:, 0].reshape(-1, 1)\n",
    "y = data[:, 1]\n",
    "\n",
    "# Алгоритм на основе перцептрона\n",
    "k_perceptron, c_perceptron, _ = perceptron(data, 0.001, 100000)\n",
    "y_pred_perceptron = k_perceptron[0] * X.flatten() + c_perceptron[0]\n",
    "mse_perceptron = mean_squared_error(y, y_pred_perceptron)\n",
    "\n",
    "# LinearRegression из scikit-learn\n",
    "regressor = LinearRegression()\n",
    "regressor.fit(X, y)\n",
    "y_pred_regression = regressor.predict(X)\n",
    "mse_regression = mean_squared_error(y, y_pred_regression)"
   ]
  },
  {
   "cell_type": "code",
   "execution_count": 5,
   "metadata": {},
   "outputs": [
    {
     "name": "stdout",
     "output_type": "stream",
     "text": [
      "MSE - Перцептрон:  66.62979763788766\n",
      "MSE - Линейная регрессия:  12.18329304479931\n"
     ]
    }
   ],
   "source": [
    "# Выводим MSE для каждого подхода\n",
    "print(\"MSE - Перцептрон: \", mse_perceptron)\n",
    "print(\"MSE - Линейная регрессия: \", mse_regression)"
   ]
  },
  {
   "cell_type": "code",
   "execution_count": 6,
   "metadata": {},
   "outputs": [],
   "source": [
    "# Загрузите набор данных о диабете\n",
    "diabetes = load_diabetes()\n",
    "X = diabetes.data[:15]\n",
    "y = diabetes.target[:15]\n",
    "\n",
    "# Выбор одного входного параметра\n",
    "X_one_param = X[:, 2].reshape(-1, 1)\n",
    "\n",
    "# Алгоритм на основе перцептрона\n",
    "k_perceptron, c_perceptron, _ = perceptron(np.hstack((X_one_param, y.reshape(-1, 1))), 0.001, 100000)\n",
    "y_pred_perceptron = k_perceptron[0] * X_one_param.flatten() + c_perceptron[0]\n",
    "mse_perceptron = mean_squared_error(y, y_pred_perceptron)"
   ]
  },
  {
   "cell_type": "code",
   "execution_count": 7,
   "metadata": {},
   "outputs": [],
   "source": [
    "# LinearRegression из scikit-learn с одним входным параметром\n",
    "regressor_one_param = LinearRegression()\n",
    "regressor_one_param.fit(X_one_param, y)\n",
    "y_pred_regression_one_param = regressor_one_param.predict(X_one_param)\n",
    "mse_regression_one_param = mean_squared_error(y, y_pred_regression_one_param)\n",
    "\n",
    "# Линейная регрессия из scikit-learn с десятью входными параметрами\n",
    "regressor_ten_param = LinearRegression()\n",
    "regressor_ten_param.fit(X, y)\n",
    "y_pred_regression_ten_param = regressor_ten_param.predict(X)\n",
    "mse_regression_ten_param = mean_squared_error(y, y_pred_regression_ten_param)"
   ]
  },
  {
   "cell_type": "code",
   "execution_count": 8,
   "metadata": {},
   "outputs": [
    {
     "name": "stdout",
     "output_type": "stream",
     "text": [
      "MSE - Perceptron (one input parameter):  5045.726755217136\n",
      "MSE - Linear Regression (one input parameter):  3467.6383323745354\n",
      "MSE - Linear Regression (ten input parameters):  288.94421527311647\n"
     ]
    }
   ],
   "source": [
    "# Выводим MSE для каждого подхода\n",
    "print(\"MSE - Perceptron (one input parameter): \", mse_perceptron)\n",
    "print(\"MSE - Linear Regression (one input parameter): \", mse_regression_one_param)\n",
    "print(\"MSE - Linear Regression (ten input parameters): \", mse_regression_ten_param)\n"
   ]
  },
  {
   "attachments": {},
   "cell_type": "markdown",
   "metadata": {},
   "source": [
    "часть вторая"
   ]
  },
  {
   "cell_type": "code",
   "execution_count": 9,
   "metadata": {},
   "outputs": [],
   "source": [
    "import numpy as np\n",
    "import pandas as pd\n",
    "import matplotlib.pyplot as plt\n",
    "from sklearn.svm import LinearSVC\n",
    "from sklearn.model_selection import train_test_split\n",
    "from sklearn.datasets import load_iris\n",
    "from sklearn.metrics import RocCurveDisplay, roc_curve\n",
    "from sklearn.metrics import roc_auc_score"
   ]
  },
  {
   "cell_type": "code",
   "execution_count": 10,
   "metadata": {},
   "outputs": [],
   "source": [
    "class Perceptron:\n",
    "    def __init__(self, eta=0.01, n_iter=50, random_state=None, alpha=0.1):\n",
    "        self.eta = eta\n",
    "        self.n_iter = n_iter\n",
    "        self.random_state = random_state\n",
    "        self.alpha = alpha\n",
    "        self.w_ = None\n",
    "        self.train_errors_ = []\n",
    "        self.test_errors_ = []\n",
    "\n",
    "    def sigmoid(self, z):\n",
    "        return 1 / (1 + np.exp(-z))\n",
    "\n",
    "    def net_input(self, X):\n",
    "        return np.dot(X, self.w_[1:]) + self.w_[0]\n",
    "\n",
    "    def predict(self, X):\n",
    "        return np.where(self.sigmoid(self.net_input(X)) >= 0.5, 1, -1)\n",
    "\n",
    "    def fit(self, X, y):\n",
    "        if self.random_state:\n",
    "            np.random.seed(self.random_state)\n",
    "\n",
    "        self.w_ = np.zeros(1 + X.shape[1])\n",
    "        self.errors_ = []\n",
    "        self.train_errors_ = []\n",
    "        self.test_errors_ = []\n",
    "\n",
    "        for _ in range(self.n_iter):\n",
    "            train_errors = 0\n",
    "\n",
    "            for xi, yi in zip(X, y):\n",
    "                output = self.predict(xi)\n",
    "                error = yi - output\n",
    "                update = self.eta * error * self.sigmoid(self.net_input(xi)) * (1 - self.sigmoid(self.net_input(xi)))\n",
    "                self.w_[1:] += update * xi - self.alpha * self.w_[1:]\n",
    "                self.w_[0] += update\n",
    "                train_errors += int(error != 0.0)\n",
    "\n",
    "            test_errors = 0\n",
    "            for xi, yi in zip(X_test, y_test):\n",
    "                prediction = self.predict(xi)\n",
    "                test_errors += int(prediction != yi)\n",
    "\n",
    "            self.train_errors_.append(train_errors)\n",
    "            self.test_errors_.append(test_errors)\n",
    "\n",
    "        return self"
   ]
  },
  {
   "cell_type": "code",
   "execution_count": 11,
   "metadata": {},
   "outputs": [],
   "source": [
    "iris = load_iris()\n",
    "X = iris.data[:, [0, 2]]\n",
    "y = iris.target\n",
    "\n",
    "X = X[:100]\n",
    "y = y[:100]\n",
    "y[y == 0] = -1"
   ]
  },
  {
   "cell_type": "code",
   "execution_count": 12,
   "metadata": {},
   "outputs": [
    {
     "data": {
      "text/html": [
       "<style>#sk-container-id-1 {color: black;background-color: white;}#sk-container-id-1 pre{padding: 0;}#sk-container-id-1 div.sk-toggleable {background-color: white;}#sk-container-id-1 label.sk-toggleable__label {cursor: pointer;display: block;width: 100%;margin-bottom: 0;padding: 0.3em;box-sizing: border-box;text-align: center;}#sk-container-id-1 label.sk-toggleable__label-arrow:before {content: \"▸\";float: left;margin-right: 0.25em;color: #696969;}#sk-container-id-1 label.sk-toggleable__label-arrow:hover:before {color: black;}#sk-container-id-1 div.sk-estimator:hover label.sk-toggleable__label-arrow:before {color: black;}#sk-container-id-1 div.sk-toggleable__content {max-height: 0;max-width: 0;overflow: hidden;text-align: left;background-color: #f0f8ff;}#sk-container-id-1 div.sk-toggleable__content pre {margin: 0.2em;color: black;border-radius: 0.25em;background-color: #f0f8ff;}#sk-container-id-1 input.sk-toggleable__control:checked~div.sk-toggleable__content {max-height: 200px;max-width: 100%;overflow: auto;}#sk-container-id-1 input.sk-toggleable__control:checked~label.sk-toggleable__label-arrow:before {content: \"▾\";}#sk-container-id-1 div.sk-estimator input.sk-toggleable__control:checked~label.sk-toggleable__label {background-color: #d4ebff;}#sk-container-id-1 div.sk-label input.sk-toggleable__control:checked~label.sk-toggleable__label {background-color: #d4ebff;}#sk-container-id-1 input.sk-hidden--visually {border: 0;clip: rect(1px 1px 1px 1px);clip: rect(1px, 1px, 1px, 1px);height: 1px;margin: -1px;overflow: hidden;padding: 0;position: absolute;width: 1px;}#sk-container-id-1 div.sk-estimator {font-family: monospace;background-color: #f0f8ff;border: 1px dotted black;border-radius: 0.25em;box-sizing: border-box;margin-bottom: 0.5em;}#sk-container-id-1 div.sk-estimator:hover {background-color: #d4ebff;}#sk-container-id-1 div.sk-parallel-item::after {content: \"\";width: 100%;border-bottom: 1px solid gray;flex-grow: 1;}#sk-container-id-1 div.sk-label:hover label.sk-toggleable__label {background-color: #d4ebff;}#sk-container-id-1 div.sk-serial::before {content: \"\";position: absolute;border-left: 1px solid gray;box-sizing: border-box;top: 0;bottom: 0;left: 50%;z-index: 0;}#sk-container-id-1 div.sk-serial {display: flex;flex-direction: column;align-items: center;background-color: white;padding-right: 0.2em;padding-left: 0.2em;position: relative;}#sk-container-id-1 div.sk-item {position: relative;z-index: 1;}#sk-container-id-1 div.sk-parallel {display: flex;align-items: stretch;justify-content: center;background-color: white;position: relative;}#sk-container-id-1 div.sk-item::before, #sk-container-id-1 div.sk-parallel-item::before {content: \"\";position: absolute;border-left: 1px solid gray;box-sizing: border-box;top: 0;bottom: 0;left: 50%;z-index: -1;}#sk-container-id-1 div.sk-parallel-item {display: flex;flex-direction: column;z-index: 1;position: relative;background-color: white;}#sk-container-id-1 div.sk-parallel-item:first-child::after {align-self: flex-end;width: 50%;}#sk-container-id-1 div.sk-parallel-item:last-child::after {align-self: flex-start;width: 50%;}#sk-container-id-1 div.sk-parallel-item:only-child::after {width: 0;}#sk-container-id-1 div.sk-dashed-wrapped {border: 1px dashed gray;margin: 0 0.4em 0.5em 0.4em;box-sizing: border-box;padding-bottom: 0.4em;background-color: white;}#sk-container-id-1 div.sk-label label {font-family: monospace;font-weight: bold;display: inline-block;line-height: 1.2em;}#sk-container-id-1 div.sk-label-container {text-align: center;}#sk-container-id-1 div.sk-container {/* jupyter's `normalize.less` sets `[hidden] { display: none; }` but bootstrap.min.css set `[hidden] { display: none !important; }` so we also need the `!important` here to be able to override the default hidden behavior on the sphinx rendered scikit-learn.org. See: https://github.com/scikit-learn/scikit-learn/issues/21755 */display: inline-block !important;position: relative;}#sk-container-id-1 div.sk-text-repr-fallback {display: none;}</style><div id=\"sk-container-id-1\" class=\"sk-top-container\"><div class=\"sk-text-repr-fallback\"><pre>LinearSVC(random_state=1)</pre><b>In a Jupyter environment, please rerun this cell to show the HTML representation or trust the notebook. <br />On GitHub, the HTML representation is unable to render, please try loading this page with nbviewer.org.</b></div><div class=\"sk-container\" hidden><div class=\"sk-item\"><div class=\"sk-estimator sk-toggleable\"><input class=\"sk-toggleable__control sk-hidden--visually\" id=\"sk-estimator-id-1\" type=\"checkbox\" checked><label for=\"sk-estimator-id-1\" class=\"sk-toggleable__label sk-toggleable__label-arrow\">LinearSVC</label><div class=\"sk-toggleable__content\"><pre>LinearSVC(random_state=1)</pre></div></div></div></div></div>"
      ],
      "text/plain": [
       "LinearSVC(random_state=1)"
      ]
     },
     "execution_count": 12,
     "metadata": {},
     "output_type": "execute_result"
    }
   ],
   "source": [
    "# Разделение данных на обучающий и тестовый наборы\n",
    "X_train, X_test, y_train, y_test = train_test_split(X, y, test_size=0.4, random_state=1)\n",
    "\n",
    "# Создание экземпляра классификатора Perceptron\n",
    "ppn2 = Perceptron(eta=0.1, n_iter=1000)\n",
    "ppn2.fit(X_train, y_train)\n",
    "\n",
    "# Создание экземпляра классификатора LinearSVC\n",
    "svc2 = LinearSVC(random_state=1)\n",
    "svc2.fit(X_train, y_train)"
   ]
  },
  {
   "cell_type": "code",
   "execution_count": 13,
   "metadata": {},
   "outputs": [],
   "source": [
    "# Вычисление ошибок классификации для первых 2 параметров\n",
    "sample_size = 20\n",
    "random_state = 1\n",
    "\n",
    "# Перцептронный классификатор\n",
    "X_train_sample, X_test_sample, y_train_sample, y_test_sample = train_test_split(\n",
    "    X_test, y_test, test_size=sample_size, random_state=random_state\n",
    ")\n",
    "\n",
    "ppn2_errors = sum(ppn2.predict(X_test_sample) != y_test_sample)\n",
    "\n",
    "# Классификатор LinearSVC\n",
    "svc2_errors = sum(svc2.predict(X_test_sample) != y_test_sample)"
   ]
  },
  {
   "cell_type": "code",
   "execution_count": 14,
   "metadata": {},
   "outputs": [
    {
     "name": "stdout",
     "output_type": "stream",
     "text": [
      "Classification errors for the first 2 parameters:\n",
      "Perceptron: 10.0 %\n",
      "LinearSVC: 0.0 %\n"
     ]
    }
   ],
   "source": [
    "# Выведите ошибки классификации для первых 2 параметров\n",
    "print(\"Classification errors for the first 2 parameters:\")\n",
    "print(\"Perceptron:\", ppn2_errors / sample_size * 100, \"%\")\n",
    "print(\"LinearSVC:\", svc2_errors / sample_size * 100, \"%\")"
   ]
  },
  {
   "cell_type": "code",
   "execution_count": 15,
   "metadata": {},
   "outputs": [
    {
     "data": {
      "image/png": "[encoded data removed]",
      "text/plain": [
       "<Figure size 640x480 with 1 Axes>"
      ]
     },
     "metadata": {},
     "output_type": "display_data"
    }
   ],
   "source": [
    "# Вычисление FPR и TPR для первых 2 параметров\n",
    "ppn2_y_probs = ppn2.predict(X_test_sample)\n",
    "fpr_ppn2, tpr_ppn2, _ = roc_curve(y_test_sample, ppn2_y_probs)\n",
    "\n",
    "svc2_y_probs = svc2.decision_function(X_test_sample)\n",
    "fpr_svc2, tpr_svc2, _ = roc_curve(y_test_sample, svc2_y_probs)\n",
    "\n",
    "ppn2_auc = roc_auc_score(y_test_sample, ppn2_y_probs)\n",
    "svc2_auc = roc_auc_score(y_test_sample, svc2_y_probs)\n",
    "\n",
    "# Визуализация кривых ROC на одном экране\n",
    "fig, ax = plt.subplots()\n",
    "\n",
    "roc_display_ppn2 = RocCurveDisplay(fpr=fpr_ppn2, tpr=tpr_ppn2, estimator_name='Perceptron')\n",
    "roc_display_ppn2.plot(ax=ax)\n",
    "\n",
    "roc_display_svc2 = RocCurveDisplay(fpr=fpr_svc2, tpr=tpr_svc2, estimator_name='LinearSVC')\n",
    "roc_display_svc2.plot(ax=ax)\n",
    "\n",
    "plt.title('ROC Curves for the first 2 parameters')\n",
    "\n",
    "plt.legend([\"AUC-ROC for Perceptron: {:.4f}\".format(ppn2_auc),\n",
    "            \"AUC-ROC for LinearSVC: {:.4f}\".format(svc2_auc)])\n",
    "\n",
    "plt.show()\n"
   ]
  },
  {
   "cell_type": "code",
   "execution_count": 16,
   "metadata": {},
   "outputs": [],
   "source": [
    "# Повторите процесс для первых 4 параметров\n",
    "X = iris.data[:, [0, 1, 2, 3]]\n",
    "y = iris.target\n",
    "\n",
    "X = X[:100]\n",
    "y = y[:100]\n",
    "y[y == 0] = -1"
   ]
  },
  {
   "cell_type": "code",
   "execution_count": 17,
   "metadata": {},
   "outputs": [
    {
     "data": {
      "text/html": [
       "<style>#sk-container-id-2 {color: black;background-color: white;}#sk-container-id-2 pre{padding: 0;}#sk-container-id-2 div.sk-toggleable {background-color: white;}#sk-container-id-2 label.sk-toggleable__label {cursor: pointer;display: block;width: 100%;margin-bottom: 0;padding: 0.3em;box-sizing: border-box;text-align: center;}#sk-container-id-2 label.sk-toggleable__label-arrow:before {content: \"▸\";float: left;margin-right: 0.25em;color: #696969;}#sk-container-id-2 label.sk-toggleable__label-arrow:hover:before {color: black;}#sk-container-id-2 div.sk-estimator:hover label.sk-toggleable__label-arrow:before {color: black;}#sk-container-id-2 div.sk-toggleable__content {max-height: 0;max-width: 0;overflow: hidden;text-align: left;background-color: #f0f8ff;}#sk-container-id-2 div.sk-toggleable__content pre {margin: 0.2em;color: black;border-radius: 0.25em;background-color: #f0f8ff;}#sk-container-id-2 input.sk-toggleable__control:checked~div.sk-toggleable__content {max-height: 200px;max-width: 100%;overflow: auto;}#sk-container-id-2 input.sk-toggleable__control:checked~label.sk-toggleable__label-arrow:before {content: \"▾\";}#sk-container-id-2 div.sk-estimator input.sk-toggleable__control:checked~label.sk-toggleable__label {background-color: #d4ebff;}#sk-container-id-2 div.sk-label input.sk-toggleable__control:checked~label.sk-toggleable__label {background-color: #d4ebff;}#sk-container-id-2 input.sk-hidden--visually {border: 0;clip: rect(1px 1px 1px 1px);clip: rect(1px, 1px, 1px, 1px);height: 1px;margin: -1px;overflow: hidden;padding: 0;position: absolute;width: 1px;}#sk-container-id-2 div.sk-estimator {font-family: monospace;background-color: #f0f8ff;border: 1px dotted black;border-radius: 0.25em;box-sizing: border-box;margin-bottom: 0.5em;}#sk-container-id-2 div.sk-estimator:hover {background-color: #d4ebff;}#sk-container-id-2 div.sk-parallel-item::after {content: \"\";width: 100%;border-bottom: 1px solid gray;flex-grow: 1;}#sk-container-id-2 div.sk-label:hover label.sk-toggleable__label {background-color: #d4ebff;}#sk-container-id-2 div.sk-serial::before {content: \"\";position: absolute;border-left: 1px solid gray;box-sizing: border-box;top: 0;bottom: 0;left: 50%;z-index: 0;}#sk-container-id-2 div.sk-serial {display: flex;flex-direction: column;align-items: center;background-color: white;padding-right: 0.2em;padding-left: 0.2em;position: relative;}#sk-container-id-2 div.sk-item {position: relative;z-index: 1;}#sk-container-id-2 div.sk-parallel {display: flex;align-items: stretch;justify-content: center;background-color: white;position: relative;}#sk-container-id-2 div.sk-item::before, #sk-container-id-2 div.sk-parallel-item::before {content: \"\";position: absolute;border-left: 1px solid gray;box-sizing: border-box;top: 0;bottom: 0;left: 50%;z-index: -1;}#sk-container-id-2 div.sk-parallel-item {display: flex;flex-direction: column;z-index: 1;position: relative;background-color: white;}#sk-container-id-2 div.sk-parallel-item:first-child::after {align-self: flex-end;width: 50%;}#sk-container-id-2 div.sk-parallel-item:last-child::after {align-self: flex-start;width: 50%;}#sk-container-id-2 div.sk-parallel-item:only-child::after {width: 0;}#sk-container-id-2 div.sk-dashed-wrapped {border: 1px dashed gray;margin: 0 0.4em 0.5em 0.4em;box-sizing: border-box;padding-bottom: 0.4em;background-color: white;}#sk-container-id-2 div.sk-label label {font-family: monospace;font-weight: bold;display: inline-block;line-height: 1.2em;}#sk-container-id-2 div.sk-label-container {text-align: center;}#sk-container-id-2 div.sk-container {/* jupyter's `normalize.less` sets `[hidden] { display: none; }` but bootstrap.min.css set `[hidden] { display: none !important; }` so we also need the `!important` here to be able to override the default hidden behavior on the sphinx rendered scikit-learn.org. See: https://github.com/scikit-learn/scikit-learn/issues/21755 */display: inline-block !important;position: relative;}#sk-container-id-2 div.sk-text-repr-fallback {display: none;}</style><div id=\"sk-container-id-2\" class=\"sk-top-container\"><div class=\"sk-text-repr-fallback\"><pre>LinearSVC(random_state=1)</pre><b>In a Jupyter environment, please rerun this cell to show the HTML representation or trust the notebook. <br />On GitHub, the HTML representation is unable to render, please try loading this page with nbviewer.org.</b></div><div class=\"sk-container\" hidden><div class=\"sk-item\"><div class=\"sk-estimator sk-toggleable\"><input class=\"sk-toggleable__control sk-hidden--visually\" id=\"sk-estimator-id-2\" type=\"checkbox\" checked><label for=\"sk-estimator-id-2\" class=\"sk-toggleable__label sk-toggleable__label-arrow\">LinearSVC</label><div class=\"sk-toggleable__content\"><pre>LinearSVC(random_state=1)</pre></div></div></div></div></div>"
      ],
      "text/plain": [
       "LinearSVC(random_state=1)"
      ]
     },
     "execution_count": 17,
     "metadata": {},
     "output_type": "execute_result"
    }
   ],
   "source": [
    "X_train, X_test, y_train, y_test = train_test_split(X, y, test_size=0.4, random_state=1)\n",
    "\n",
    "ppn4 = Perceptron(eta=0.1, n_iter=1000)\n",
    "ppn4.fit(X_train, y_train)\n",
    "\n",
    "svc4 = LinearSVC(random_state=1)\n",
    "svc4.fit(X_train, y_train)"
   ]
  },
  {
   "cell_type": "code",
   "execution_count": 18,
   "metadata": {},
   "outputs": [],
   "source": [
    "# Вычисление ошибок классификации для первых 4 параметров\n",
    "# Перцептронный классификатор\n",
    "X_train_sample, X_test_sample, y_train_sample, y_test_sample = train_test_split(\n",
    "    X_test, y_test, test_size=sample_size, random_state=random_state\n",
    ")\n",
    "ppn4_errors = sum(ppn4.predict(X_test_sample) != y_test_sample)\n",
    "\n",
    "# Классификатор LinearSVC\n",
    "svc4_errors = sum(svc4.predict(X_test_sample) != y_test_sample)"
   ]
  },
  {
   "cell_type": "code",
   "execution_count": 19,
   "metadata": {},
   "outputs": [
    {
     "name": "stdout",
     "output_type": "stream",
     "text": [
      "Classification errors for the first 4 parameters:\n",
      "Perceptron: 5.0 %\n",
      "LinearSVC: 0.0 %\n"
     ]
    }
   ],
   "source": [
    "# Выведите ошибки классификации для первых 4 параметров\n",
    "print(\"Classification errors for the first 4 parameters:\")\n",
    "print(\"Perceptron:\", ppn4_errors / sample_size * 100, \"%\")\n",
    "print(\"LinearSVC:\", svc4_errors / sample_size * 100, \"%\")"
   ]
  },
  {
   "cell_type": "code",
   "execution_count": 20,
   "metadata": {},
   "outputs": [
    {
     "data": {
      "image/png": "[encoded data removed]",
      "text/plain": [
       "<Figure size 640x480 with 1 Axes>"
      ]
     },
     "metadata": {},
     "output_type": "display_data"
    }
   ],
   "source": [
    "# Вычисление FPR и TPR для первых 4 параметров\n",
    "ppn4_y_pred = ppn4.predict(X_test_sample)\n",
    "fpr_ppn4, tpr_ppn4, _ = roc_curve(y_test_sample, ppn4_y_pred)\n",
    "\n",
    "svc4_y_probs = svc4.decision_function(X_test_sample)\n",
    "fpr_svc4, tpr_svc4, _ = roc_curve(y_test_sample, svc4_y_probs)\n",
    "\n",
    "ppn4_auc = roc_auc_score(y_test_sample, ppn4_y_pred)\n",
    "svc4_auc = roc_auc_score(y_test_sample, svc4_y_probs)\n",
    "\n",
    "# Визуализация кривых ROC на одном экране\n",
    "fig, ax = plt.subplots()\n",
    "\n",
    "roc_display_ppn4 = RocCurveDisplay(fpr=fpr_ppn4, tpr=tpr_ppn4, estimator_name='Perceptron')\n",
    "roc_display_ppn4.plot(ax=ax)\n",
    "\n",
    "roc_display_svc4 = RocCurveDisplay(fpr=fpr_svc4, tpr=tpr_svc4, estimator_name='LinearSVC')\n",
    "roc_display_svc4.plot(ax=ax)\n",
    "\n",
    "plt.title('ROC Curves for the first 4 parameters')\n",
    "\n",
    "plt.legend([\"AUC-ROC for Perceptron: {:.4f}\".format(ppn4_auc),\n",
    "            \"AUC-ROC for LinearSVC: {:.4f}\".format(svc4_auc)])\n",
    "\n",
    "plt.show()"
   ]
  }
 ],
 "metadata": {
  "kernelspec": {
   "display_name": "Python 3",
   "language": "python",
   "name": "python3"
  },
  "language_info": {
   "codemirror_mode": {
    "name": "ipython",
    "version": 3
   },
   "file_extension": ".py",
   "mimetype": "text/x-python",
   "name": "python",
   "nbconvert_exporter": "python",
   "pygments_lexer": "ipython3",
   "version": "3.11.3"
  },
  "orig_nbformat": 4
 },
 "nbformat": 4,
 "nbformat_minor": 2
}
